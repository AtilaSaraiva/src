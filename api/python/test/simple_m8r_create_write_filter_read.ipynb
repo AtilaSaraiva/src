{
 "cells": [
  {
   "cell_type": "markdown",
   "metadata": {},
   "source": [
    "# Example showing how mix python and madagascar processing #\n",
    "\n",
    "This notebook:\n",
    "    * creates data in python\n",
    "    * writes in madagascar .rsf file\n",
    "    * bandlimited with sfbandpass\n",
    "    * plots with sfwiggle\n",
    "    * reads bandlimits data back into notebook\n",
    "    * plots using matplotlib.pyplot.imshow\n",
    "    \n",
    "The notebook can be run in Python 3 (using git updates from m8r.py and doc.py on July 27, 2018)\n",
    "and Madagascar built with Python 2.  m8r.py has been tested for both Python 2 and Python 3."
   ]
  },
  {
   "cell_type": "code",
   "execution_count": 1,
   "metadata": {},
   "outputs": [
    {
     "name": "stderr",
     "output_type": "stream",
     "text": [
      "local copy\n"
     ]
    }
   ],
   "source": [
    "# basic imports.  \n",
    "import os\n",
    "import numpy as np\n",
    "import matplotlib\n",
    "# use the nbagg backend to render plot.  It provides basic zoom and pan capability.\n",
    "matplotlib.use('nbagg') # previously I used this magic command: %matplotlib inline\n",
    "# I think import matplotlib.pyplot must be after matplotlib.use('nbagg') \n",
    "import matplotlib.pyplot as plt\n",
    "\n",
    "#m8r library provides read and write of madagascar data\n",
    "import m8r "
   ]
  },
  {
   "cell_type": "code",
   "execution_count": 2,
   "metadata": {},
   "outputs": [],
   "source": [
    "m8r?"
   ]
  },
  {
   "cell_type": "code",
   "execution_count": null,
   "metadata": {},
   "outputs": [],
   "source": [
    "#create a numpy ndarray (a 2D array) of all floating point zeros\n",
    "a = np.zeros((60,50),dtype='float32') \n",
    "# set point at 25,25 to 1.0\n",
    "a[25,25]=1.0\n",
    "\n",
    "#open and output file.  \n",
    "file1=m8r.Output('file1.rsf')\n",
    "# Set n1, o1, and d1 in the output file.  This is the fastest index.\n",
    "# The numpy ndarray is shape (n2,n1), fastest index is last.\n",
    "file1.put('n1',50)\n",
    "file1.put('o1',0)\n",
    "file1.put('d1',.004)\n",
    "# Set n2, o2, and d2 in the output file.\n",
    "file1.put('n2',60)\n",
    "file1.put('o2',1)\n",
    "file1.put('d2',1)\n",
    "\n",
    "# Write the data to disc and close the file\n",
    "file1.write(a)\n",
    "file1.close()"
   ]
  },
  {
   "cell_type": "code",
   "execution_count": null,
   "metadata": {},
   "outputs": [],
   "source": [
    "# print m8r.Output documentation.  Needs to be writen.\n",
    "m8r.Output?"
   ]
  },
  {
   "cell_type": "code",
   "execution_count": null,
   "metadata": {},
   "outputs": [],
   "source": [
    "# Apply bandpass filter using madagascar.  My notebook is python3, but my madagascar is python 2.  \n",
    "# It works!\n",
    "os.system('sfbandpass <file1.rsf fhi=20 > file2.rsf') "
   ]
  },
  {
   "cell_type": "code",
   "execution_count": null,
   "metadata": {},
   "outputs": [],
   "source": [
    "# plot the bandlimitted data using madagascar sfwiggle\n",
    "os.system('sfwiggle <file2.rsf pclip=99.7 |sfpen')\n"
   ]
  },
  {
   "cell_type": "code",
   "execution_count": null,
   "metadata": {},
   "outputs": [],
   "source": [
    " os.system('sfgrey <file2.rsf pclip=99.7 color=j | sfpen')"
   ]
  },
  {
   "cell_type": "code",
   "execution_count": null,
   "metadata": {},
   "outputs": [],
   "source": [
    "# print shape of the a array (created with a = np.zeros((60,50),dtype='float32') )\n",
    "a.shape"
   ]
  },
  {
   "cell_type": "code",
   "execution_count": null,
   "metadata": {},
   "outputs": [],
   "source": [
    "#read 'file2.rsf' into numpy ndarray and plot using matplotlib.pyplot.imshow\n",
    "file2 = m8r.Input('file2.rsf') \n",
    "b=file2.read()\n",
    "plt.imshow(b.T,cmap='jet',aspect='auto')\n",
    "plt.show()"
   ]
  },
  {
   "cell_type": "code",
   "execution_count": null,
   "metadata": {},
   "outputs": [],
   "source": [
    "plt.imshow?"
   ]
  },
  {
   "cell_type": "code",
   "execution_count": null,
   "metadata": {},
   "outputs": [],
   "source": []
  }
 ],
 "metadata": {
  "kernelspec": {
   "display_name": "Python 2",
   "language": "python",
   "name": "python2"
  },
  "language_info": {
   "codemirror_mode": {
    "name": "ipython",
    "version": 2
   },
   "file_extension": ".py",
   "mimetype": "text/x-python",
   "name": "python",
   "nbconvert_exporter": "python",
   "pygments_lexer": "ipython2",
   "version": "2.7.15"
  }
 },
 "nbformat": 4,
 "nbformat_minor": 2
}
